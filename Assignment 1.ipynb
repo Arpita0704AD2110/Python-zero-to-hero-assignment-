{
  "nbformat": 4,
  "nbformat_minor": 0,
  "metadata": {
    "colab": {
      "provenance": []
    },
    "kernelspec": {
      "name": "python3",
      "display_name": "Python 3"
    },
    "language_info": {
      "name": "python"
    }
  },
  "cells": [
    {
      "cell_type": "code",
      "source": [
        "# WAP to clasify a given a number in one of the given category i.e. positive , zero or negative\n",
        "# Assignment question for lets upgrade PYTHON ZERO TO HERO course\n",
        "\n",
        "# For zero input\n",
        "num = int(input(\"Enter a number :- \"))"
      ],
      "metadata": {
        "colab": {
          "base_uri": "https://localhost:8080/"
        },
        "id": "Zx1eLj1OKyax",
        "outputId": "6c653da2-ea5c-4f6b-ee12-bbbbddb189ef"
      },
      "execution_count": 12,
      "outputs": [
        {
          "name": "stdout",
          "output_type": "stream",
          "text": [
            "Enter a number :- 0\n"
          ]
        }
      ]
    },
    {
      "cell_type": "code",
      "source": [
        "if num > 0:\n",
        "  print(\"The number is positive. \")\n",
        "elif num < 0:\n",
        "  print(\"The number is negative. \")\n",
        "elif num == 0:\n",
        "  print(\"The number is zero.\")\n",
        "else:\n",
        "  print(\"Empty\")"
      ],
      "metadata": {
        "colab": {
          "base_uri": "https://localhost:8080/"
        },
        "id": "sEcDKE59LnrV",
        "outputId": "3cdeec97-b382-40cb-e1c4-0cbcbee7ddc1"
      },
      "execution_count": 14,
      "outputs": [
        {
          "output_type": "stream",
          "name": "stdout",
          "text": [
            "The number is zero.\n"
          ]
        }
      ]
    },
    {
      "cell_type": "code",
      "source": [
        "# for positive input\n",
        "num = int(input(\"Enter a number :- \"))"
      ],
      "metadata": {
        "colab": {
          "base_uri": "https://localhost:8080/"
        },
        "id": "6mgtgnb7OXdY",
        "outputId": "9f938b6b-977e-4f85-9701-aa3f1642f368"
      },
      "execution_count": 15,
      "outputs": [
        {
          "name": "stdout",
          "output_type": "stream",
          "text": [
            "Enter a number :- 4\n"
          ]
        }
      ]
    },
    {
      "cell_type": "code",
      "source": [
        "if num > 0:\n",
        "  print(\"The number is positive. \")\n",
        "elif num < 0:\n",
        "  print(\"The number is negative. \")\n",
        "elif num == 0:\n",
        "  print(\"The number is zero.\")\n",
        "else:\n",
        "  print(\"Empty\")"
      ],
      "metadata": {
        "colab": {
          "base_uri": "https://localhost:8080/"
        },
        "id": "_SCfqMNYOb6g",
        "outputId": "33bcab83-4e80-4ecf-f383-171ead3a25bc"
      },
      "execution_count": 17,
      "outputs": [
        {
          "output_type": "stream",
          "name": "stdout",
          "text": [
            "The number is positive. \n"
          ]
        }
      ]
    },
    {
      "cell_type": "code",
      "source": [
        "#For negative input\n",
        "num = int(input(\"Enter a number :- \"))"
      ],
      "metadata": {
        "colab": {
          "base_uri": "https://localhost:8080/"
        },
        "id": "57vIBENIOhJI",
        "outputId": "ae2a5a6c-34dc-4d58-db6c-e1ad4cfd85c4"
      },
      "execution_count": 18,
      "outputs": [
        {
          "name": "stdout",
          "output_type": "stream",
          "text": [
            "Enter a number :- -8\n"
          ]
        }
      ]
    },
    {
      "cell_type": "code",
      "source": [
        "if num > 0:\n",
        "  print(\"The number is positive. \")\n",
        "elif num < 0:\n",
        "  print(\"The number is negative. \")\n",
        "elif num == 0:\n",
        "  print(\"The number is zero.\")\n",
        "else:\n",
        "  print(\"Empty\")"
      ],
      "metadata": {
        "colab": {
          "base_uri": "https://localhost:8080/"
        },
        "id": "RLTHT_3yOk7o",
        "outputId": "ca1d1c9b-6517-4cca-9185-e3df8f4b843c"
      },
      "execution_count": 19,
      "outputs": [
        {
          "output_type": "stream",
          "name": "stdout",
          "text": [
            "The number is negative. \n"
          ]
        }
      ]
    },
    {
      "cell_type": "code",
      "source": [
        "#calculator using if else condition\n",
        "#simple calculator\n"
      ],
      "metadata": {
        "id": "zM62QTSlJODu"
      },
      "execution_count": 16,
      "outputs": []
    },
    {
      "cell_type": "code",
      "source": [
        "num1=int(input(\"Enter a 1st number :- \"))"
      ],
      "metadata": {
        "colab": {
          "base_uri": "https://localhost:8080/"
        },
        "id": "U2aPziXkJXvD",
        "outputId": "c4573421-470d-41d3-de59-cbc34b06cfab"
      },
      "execution_count": 3,
      "outputs": [
        {
          "name": "stdout",
          "output_type": "stream",
          "text": [
            "Enter a 1st number :- 50\n"
          ]
        }
      ]
    },
    {
      "cell_type": "code",
      "source": [
        "num2=int(input(\"Enter a 2nd number :- \"))"
      ],
      "metadata": {
        "colab": {
          "base_uri": "https://localhost:8080/"
        },
        "id": "SC-gwQyRKAyx",
        "outputId": "4f1a5350-1a23-4b1d-a82c-8aa42cd32c0f"
      },
      "execution_count": 4,
      "outputs": [
        {
          "name": "stdout",
          "output_type": "stream",
          "text": [
            "Enter a 2nd number :- 25\n"
          ]
        }
      ]
    },
    {
      "cell_type": "code",
      "source": [
        "oper = input(\"Enter any arithmetic operator to do the operation (+,-,*,/) :- \")"
      ],
      "metadata": {
        "colab": {
          "base_uri": "https://localhost:8080/"
        },
        "id": "zL6QIspGKHzQ",
        "outputId": "decdc7e3-9204-4032-a056-a0bf1f72d0a0"
      },
      "execution_count": 5,
      "outputs": [
        {
          "name": "stdout",
          "output_type": "stream",
          "text": [
            "Enter any arithmetic operator to do the operation (+,-,*,/) :- +\n"
          ]
        }
      ]
    },
    {
      "cell_type": "code",
      "source": [
        "if oper == '+':\n",
        "  print ( num1 + num2 )\n",
        "elif oper == '-':\n",
        "  print ( num1 - num2 )\n",
        "elif oper == '*':\n",
        "  print ( num1 * num2 )\n",
        "elif oper == '/':\n",
        "  print ( num1 / num2 )\n",
        "else:\n",
        "  print (\"Invalid operator\")"
      ],
      "metadata": {
        "colab": {
          "base_uri": "https://localhost:8080/"
        },
        "id": "r-DgMeBIKWS5",
        "outputId": "94e649aa-bcee-44b9-a705-1f304712d590"
      },
      "execution_count": 7,
      "outputs": [
        {
          "output_type": "stream",
          "name": "stdout",
          "text": [
            "75\n"
          ]
        }
      ]
    },
    {
      "cell_type": "code",
      "source": [],
      "metadata": {
        "id": "PWmYyg77MTHA"
      },
      "execution_count": null,
      "outputs": []
    }
  ]
}